{
 "cells": [
  {
   "cell_type": "code",
   "execution_count": 1,
   "id": "86df0e0c",
   "metadata": {},
   "outputs": [],
   "source": [
    "import pickle\n",
    "import numpy as np\n",
    "import pandas as pd\n",
    "import matplotlib.pyplot as plt\n",
    "from sklearn.metrics import accuracy_score, confusion_matrix, log_loss\n",
    "import itertools"
   ]
  },
  {
   "cell_type": "code",
   "execution_count": 2,
   "id": "eeb4782d",
   "metadata": {},
   "outputs": [],
   "source": [
    "predictions = []\n",
    "oofs = []\n",
    "\n",
    "weights = {'rf':2,'lr':1,'lgb':3}\n",
    "models = list(weights.keys())\n",
    "weights_list = list(weights.values())\n",
    "\n",
    "for model in models:\n",
    "    for index in range(5):\n",
    "        with open(f'predictions1/{model}_{index}.pkl','rb') as f:\n",
    "            predictions.append(pickle.load(f))\n",
    "    with open(f'oofs1/{model}.pkl','rb') as f:\n",
    "        oofs.append(pickle.load(f))"
   ]
  },
  {
   "cell_type": "code",
   "execution_count": 3,
   "id": "17847863",
   "metadata": {},
   "outputs": [],
   "source": [
    "# # find best weights\n",
    "\n",
    "# weights_rf = [1,2,3,4,5]\n",
    "# weights_lr = [1,2,3,4,5]\n",
    "# weights_lgb = [1,2,3,4,5]\n",
    "\n",
    "# train_df = pd.read_csv('data/cleaned_train.csv',index_col=0)\n",
    "# y2 = train_df['class2'].map({'nonevent':0,'event':1})\n",
    "\n",
    "# current_best = 0\n",
    "              \n",
    "# for weight_rf in weights_rf:\n",
    "#     for weight_lr in weights_lr:\n",
    "#         for weight_lgb in weights_lgb:\n",
    "#             weights = {'rf':weight_rf,'lr':weight_lr,'lgb':weight_lgb}\n",
    "#             models = list(weights.keys())\n",
    "#             weights_list = list(weights.values())\n",
    "#             oof2 = []\n",
    "\n",
    "#             for index in range(len(y2)):\n",
    "#                 counter = [0,0]\n",
    "#                 preds = [oofs[i][index] for i in range(len(oofs))]\n",
    "#                 for i,pred in enumerate(preds):\n",
    "#                     counter[0] += weights_list[i] * pred[0]\n",
    "#                     counter[1] += weights_list[i] * pred[1]\n",
    "\n",
    "#                 oof2.append(np.argmax(counter))\n",
    "\n",
    "#             acc2 = accuracy_score(y2,oof2)\n",
    "#             if acc2 > current_best:\n",
    "#                 current_best = acc2\n",
    "#                 best_rf = weight_rf\n",
    "#                 best_lr = weight_lr\n",
    "#                 best_lgb = weight_lgb\n",
    "\n",
    "# best_rf,best_lr,best_lgb,current_best"
   ]
  },
  {
   "cell_type": "code",
   "execution_count": 4,
   "id": "a3f767e3",
   "metadata": {},
   "outputs": [],
   "source": [
    "# # perplexity optimizer\n",
    "# train_df = pd.read_csv('data/cleaned_train.csv',index_col=\"date\")\n",
    "# y2 = train_df['class2'].map({'nonevent':0,'event':1})\n",
    "\n",
    "# def get_perplexity(coefficient=1):\n",
    "#     confidences = []\n",
    "\n",
    "#     for index in range(len(y2)):\n",
    "#         counter = [0,0]\n",
    "#         preds = [oofs[i][index] for i in range(len(oofs))]\n",
    "#         for i,pred in enumerate(preds):\n",
    "#             counter[0] += weights_list[i] * pred[0]\n",
    "#             counter[1] += weights_list[i] * pred[1]\n",
    "#         confidences.append(coefficient * counter[1] / (counter[0] + coefficient * counter[1]))\n",
    "\n",
    "#     return np.exp(log_loss(y2,confidences)/len(y2))\n",
    "\n",
    "# current_best = float('inf')\n",
    "\n",
    "# for i in range(15,35):\n",
    "#     if get_perplexity(coefficient=i/20) < current_best:\n",
    "#         best_coefficient = i / 20\n",
    "#         current_best = get_perplexity(coefficient=i/20)\n",
    "\n",
    "# best_coefficient"
   ]
  },
  {
   "cell_type": "code",
   "execution_count": 5,
   "id": "9b43e6c5",
   "metadata": {},
   "outputs": [],
   "source": [
    "coefficient = 1"
   ]
  },
  {
   "cell_type": "code",
   "execution_count": 6,
   "id": "9d39d069",
   "metadata": {},
   "outputs": [],
   "source": [
    "def plot_confusion_matrix(cm, classes,\n",
    "                          normalize=False,\n",
    "                          title='Confusion matrix',\n",
    "                          cmap=plt.cm.Blues):\n",
    "    if normalize:\n",
    "        cm = cm.astype('float') / cm.sum(axis=1)[:, np.newaxis]\n",
    "\n",
    "    plt.imshow(cm, interpolation='nearest', cmap=cmap)\n",
    "    plt.title(title)\n",
    "    plt.colorbar()\n",
    "    tick_marks = np.arange(len(classes))\n",
    "    plt.xticks(tick_marks, classes, rotation=45)\n",
    "    plt.yticks(tick_marks, classes)\n",
    "\n",
    "    fmt = '.2f' if normalize else 'd'\n",
    "    thresh = cm.max() / 2.\n",
    "    for i, j in itertools.product(range(cm.shape[0]), range(cm.shape[1])):\n",
    "        plt.text(j, i, format(cm[i, j], fmt),\n",
    "                 horizontalalignment=\"center\",\n",
    "                 color=\"white\" if cm[i, j] > thresh else \"black\")\n",
    "\n",
    "    plt.tight_layout()\n",
    "    plt.ylabel('True label')\n",
    "    plt.xlabel('Predicted label')"
   ]
  },
  {
   "cell_type": "code",
   "execution_count": 7,
   "id": "65e5b01a",
   "metadata": {},
   "outputs": [
    {
     "name": "stdout",
     "output_type": "stream",
     "text": [
      "2 class\n",
      "ACC: 0.9017467248908297\n",
      "PERP: 1.3155622513636809\n",
      "[[216  13]\n",
      " [ 32 197]]\n"
     ]
    }
   ],
   "source": [
    "# Cross validation score, used as estimate of final accuracy\n",
    "train_df = pd.read_csv('data/cleaned_train.csv',index_col=0)\n",
    "y2 = train_df['class2'].map({'nonevent':0,'event':1})\n",
    "oof2 = []\n",
    "confidences = []\n",
    "\n",
    "for index in range(len(y2)):\n",
    "    counter = [0,0]\n",
    "    preds = [oofs[i][index] for i in range(len(oofs))]\n",
    "    for i,pred in enumerate(preds):\n",
    "        counter[0] += weights_list[i] * pred[0]\n",
    "        counter[1] += weights_list[i] * pred[1]\n",
    "\n",
    "    oof2.append(np.argmax(counter))\n",
    "    confidences.append(coefficient * counter[1] / (counter[0] + coefficient * counter[1]))\n",
    "    \n",
    "acc2 = accuracy_score(y2,oof2)\n",
    "print(\"2 class\")\n",
    "print(\"ACC:\",str(acc2))\n",
    "# perplexity\n",
    "print(\"PERP:\",np.exp(log_loss(y2,confidences)))\n",
    "print(confusion_matrix(y2,oof2))\n",
    "with open('results/acc2.pkl','wb') as f:\n",
    "    pickle.dump(acc2,f)"
   ]
  },
  {
   "cell_type": "code",
   "execution_count": 8,
   "id": "9d847461",
   "metadata": {},
   "outputs": [
    {
     "data": {
      "image/png": "[encoded data removed]",
      "text/plain": [
       "<Figure size 720x288 with 4 Axes>"
      ]
     },
     "metadata": {
      "needs_background": "light"
     },
     "output_type": "display_data"
    }
   ],
   "source": [
    "cnf_matrix2 = confusion_matrix(y2, oof2)\n",
    "# Compute confusion matrix\n",
    "class_names2 = ['nonevent', 'event']\n",
    "\n",
    "# Plot non-normalized confusion matrix\n",
    "plt.figure(figsize=(10, 4))\n",
    "\n",
    "np.set_printoptions(precision=4)\n",
    "# Plot non-normalized confusion matrix\n",
    "plt.subplot(121) \n",
    "plot_confusion_matrix(cnf_matrix2, classes=class_names2,\n",
    "                      title='Confusion matrix, without normalization')\n",
    "\n",
    "# Plot normalized confusion matrix\n",
    "plt.subplot(122) \n",
    "plot_confusion_matrix(cnf_matrix2, classes=class_names2, normalize=True,\n",
    "                      title='Normalized confusion matrix')\n",
    "plt.savefig(\"Fig/cm2.png\", dpi = 1080)\n",
    "plt.show()"
   ]
  },
  {
   "cell_type": "code",
   "execution_count": 9,
   "id": "e95dc33f",
   "metadata": {
    "scrolled": true,
    "tags": []
   },
   "outputs": [
    {
     "data": {
      "text/plain": [
       "965"
      ]
     },
     "execution_count": 9,
     "metadata": {},
     "output_type": "execute_result"
    }
   ],
   "source": [
    "final_confidences = []\n",
    "stage1_predictions = []\n",
    "length = len(predictions[0])\n",
    "\n",
    "for index in range(length):\n",
    "    counter = [0,0]\n",
    "    preds = [predictions[i][index] for i in range(len(predictions))]\n",
    "    for i,pred in enumerate(preds):\n",
    "        weight_index = int(i / 5) \n",
    "        counter[0] += weights_list[weight_index] * pred[0]\n",
    "        counter[1] += weights_list[weight_index] * pred[1]\n",
    "    stage1_predictions.append(np.argmax(counter))\n",
    "    confidence = coefficient * counter[1] / (counter[0] + coefficient * counter[1])\n",
    "    final_confidences.append(confidence)\n",
    "        \n",
    "len(stage1_predictions)"
   ]
  },
  {
   "cell_type": "code",
   "execution_count": 10,
   "id": "c18af93c",
   "metadata": {},
   "outputs": [],
   "source": [
    "stage2_indexes = []\n",
    "\n",
    "for index, prediction in enumerate(stage1_predictions):\n",
    "    if prediction == 1:\n",
    "        stage2_indexes.append(index)"
   ]
  },
  {
   "cell_type": "code",
   "execution_count": 11,
   "id": "aa56e002",
   "metadata": {},
   "outputs": [],
   "source": [
    "with open('results/stage1_predictions.pkl','wb') as f:\n",
    "    pickle.dump(stage1_predictions,f)\n",
    "    \n",
    "with open('results/final_confidences.pkl','wb') as f:\n",
    "    pickle.dump(final_confidences,f)\n",
    "    \n",
    "with open('data/stage2_indexes.pkl','wb') as f:\n",
    "    pickle.dump(stage2_indexes,f)"
   ]
  },
  {
   "cell_type": "code",
   "execution_count": null,
   "id": "ff298d46",
   "metadata": {},
   "outputs": [],
   "source": []
  }
 ],
 "metadata": {
  "kernelspec": {
   "display_name": "Python 3 (ipykernel)",
   "language": "python",
   "name": "python3"
  },
  "language_info": {
   "codemirror_mode": {
    "name": "ipython",
    "version": 3
   },
   "file_extension": ".py",
   "mimetype": "text/x-python",
   "name": "python",
   "nbconvert_exporter": "python",
   "pygments_lexer": "ipython3",
   "version": "3.8.5"
  }
 },
 "nbformat": 4,
 "nbformat_minor": 5
}
