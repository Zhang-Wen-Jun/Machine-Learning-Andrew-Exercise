{
 "cells": [
  {
   "cell_type": "code",
   "execution_count": 1,
   "id": "4f082485",
   "metadata": {},
   "outputs": [],
   "source": [
    "import pickle\n",
    "import numpy as np\n",
    "import pandas as pd\n",
    "import matplotlib.pyplot as plt\n",
    "from sklearn.metrics import accuracy_score, confusion_matrix, log_loss\n",
    "import itertools"
   ]
  },
  {
   "cell_type": "code",
   "execution_count": 2,
   "id": "0b9140cb",
   "metadata": {},
   "outputs": [],
   "source": [
    "predictions = []\n",
    "oofs = []\n",
    "\n",
    "weights = {'rf':2,'gb':1,'svm':1}\n",
    "models = list(weights.keys())\n",
    "weights_list = list(weights.values())\n",
    "\n",
    "for model in models:\n",
    "    for index in range(5):\n",
    "        with open(f'predictions2/{model}_{index}.pkl','rb') as f:\n",
    "            predictions.append(pickle.load(f))\n",
    "    with open(f'oofs2/{model}.pkl','rb') as f:\n",
    "        oofs.append(pickle.load(f))"
   ]
  },
  {
   "cell_type": "code",
   "execution_count": 3,
   "id": "913a63db",
   "metadata": {},
   "outputs": [],
   "source": [
    "# # find best weights\n",
    "\n",
    "# weights_rf = [1,2,3,4,5]\n",
    "# weights_gb = [1,2,3,4,5]\n",
    "# weights_svm = [1,2,3,4,5]\n",
    "\n",
    "# train_df = pd.read_csv('data/cleaned_train.csv',index_col=0)\n",
    "# event_train = train_df[train_df['class2'] == 'event']\n",
    "# y3 = event_train['class4'].map({'Ia':0,'Ib':1,'II':2})\n",
    "\n",
    "# current_best = 0\n",
    "              \n",
    "# for weight_rf in weights_rf:\n",
    "#     for weight_gb in weights_gb:\n",
    "#         for weight_svm in weights_svm:\n",
    "#             weights = {'rf':weight_rf,'gb':weight_gb,'svm':weight_svm}\n",
    "#             models = list(weights.keys())\n",
    "#             weights_list = list(weights.values())\n",
    "#             oof3 = []\n",
    "\n",
    "#             for index in range(len(y3)):\n",
    "#                 counter = [0,0,0]\n",
    "#                 preds = [oofs[i][index] for i in range(len(oofs))]\n",
    "#                 for i,pred in enumerate(preds):\n",
    "#                     counter[0] += weights_list[i] * pred[0]\n",
    "#                     counter[1] += weights_list[i] * pred[1]\n",
    "#                     counter[2] += weights_list[i] * pred[2]\n",
    "\n",
    "#                 oof3.append(np.argmax(counter))\n",
    "\n",
    "#             acc3 = accuracy_score(y3,oof3)\n",
    "#             if acc3 > current_best:\n",
    "#                 current_best = acc3\n",
    "#                 best_rf = weight_rf\n",
    "#                 best_gb = weight_gb\n",
    "#                 best_svm = weight_svm\n",
    "\n",
    "# best_rf,best_gb,best_svm,current_best"
   ]
  },
  {
   "cell_type": "code",
   "execution_count": 4,
   "id": "a59cd40e",
   "metadata": {},
   "outputs": [],
   "source": [
    "def plot_confusion_matrix(cm, classes,\n",
    "                          normalize=False,\n",
    "                          title='Confusion matrix',\n",
    "                          cmap=plt.cm.Blues):\n",
    "    if normalize:\n",
    "        cm = cm.astype('float') / cm.sum(axis=1)[:, np.newaxis]\n",
    "\n",
    "    plt.imshow(cm, interpolation='nearest', cmap=cmap)\n",
    "    plt.title(title)\n",
    "    plt.colorbar()\n",
    "    tick_marks = np.arange(len(classes))\n",
    "    plt.xticks(tick_marks, classes, rotation=45)\n",
    "    plt.yticks(tick_marks, classes)\n",
    "\n",
    "    fmt = '.2f' if normalize else 'd'\n",
    "    thresh = cm.max() / 2.\n",
    "    for i, j in itertools.product(range(cm.shape[0]), range(cm.shape[1])):\n",
    "        plt.text(j, i, format(cm[i, j], fmt),\n",
    "                 horizontalalignment=\"center\",\n",
    "                 color=\"white\" if cm[i, j] > thresh else \"black\")\n",
    "\n",
    "    plt.tight_layout()\n",
    "    plt.ylabel('True label')\n",
    "    plt.xlabel('Predicted label')"
   ]
  },
  {
   "cell_type": "code",
   "execution_count": 5,
   "id": "1e571df5",
   "metadata": {},
   "outputs": [
    {
     "name": "stdout",
     "output_type": "stream",
     "text": [
      "3 class\n",
      "ACC: 0.5764192139737991\n",
      "[[ 8  4 17]\n",
      " [ 2 30 51]\n",
      " [ 2 21 94]]\n",
      "\n",
      "4 class (APPROX)\n",
      "ACC: 0.7390829694323144\n"
     ]
    }
   ],
   "source": [
    "# Cross validation score, used as estimate of final accuracy\n",
    "train_df = pd.read_csv('data/cleaned_train.csv',index_col=0)\n",
    "event_train = train_df[train_df['class2'] == 'event']\n",
    "y3 = event_train['class4'].map({'Ia':0,'Ib':1,'II':2})\n",
    "oof3 = []\n",
    "confidences = []\n",
    "\n",
    "for index in range(len(y3)):\n",
    "    counter = [0,0,0]\n",
    "    preds = [oofs[i][index] for i in range(len(oofs))]\n",
    "    for i,pred in enumerate(preds):\n",
    "        counter[0] += weights_list[i] * pred[0]\n",
    "        counter[1] += weights_list[i] * pred[1]\n",
    "        counter[2] += weights_list[i] * pred[2]\n",
    "\n",
    "    oof3.append(np.argmax(counter))\n",
    "\n",
    "print(\"3 class\")\n",
    "print(\"ACC:\",accuracy_score(y3,oof3))\n",
    "print(confusion_matrix(y3,oof3))\n",
    "\n",
    "print()\n",
    "with open('results/acc2.pkl','rb') as f:\n",
    "    acc2 = pickle.load(f)\n",
    "\n",
    "print(\"4 class (APPROX)\")\n",
    "print(\"ACC:\",accuracy_score(y3,oof3) * 0.5 + acc2 * 0.5)\n"
   ]
  },
  {
   "cell_type": "code",
   "execution_count": 6,
   "id": "d58fc4fe",
   "metadata": {},
   "outputs": [
    {
     "data": {
      "image/png": "[encoded data removed]",
      "text/plain": [
       "<Figure size 720x288 with 4 Axes>"
      ]
     },
     "metadata": {
      "needs_background": "light"
     },
     "output_type": "display_data"
    }
   ],
   "source": [
    "cnf_matrix3 = confusion_matrix(y3, oof3)\n",
    "# Compute confusion matrix\n",
    "class_names3 = ['Ia', 'Ib', 'II']\n",
    "\n",
    "# Plot non-normalized confusion matrix\n",
    "plt.figure(figsize=(10, 4))\n",
    "\n",
    "np.set_printoptions(precision=4)\n",
    "# Plot non-normalized confusion matrix\n",
    "plt.subplot(121) \n",
    "plot_confusion_matrix(cnf_matrix3, classes=class_names3,\n",
    "                      title='Confusion matrix, without normalization')\n",
    "\n",
    "# Plot normalized confusion matrix\n",
    "plt.subplot(122) \n",
    "plot_confusion_matrix(cnf_matrix3, classes=class_names3, normalize=True,\n",
    "                      title='Normalized confusion matrix')\n",
    "plt.savefig(\"Fig/cm4.png\", dpi = 1080)\n",
    "plt.show()"
   ]
  },
  {
   "cell_type": "code",
   "execution_count": 7,
   "id": "d7300237",
   "metadata": {
    "scrolled": true,
    "tags": []
   },
   "outputs": [
    {
     "data": {
      "text/plain": [
       "452"
      ]
     },
     "execution_count": 7,
     "metadata": {},
     "output_type": "execute_result"
    }
   ],
   "source": [
    "stage2_predictions = []\n",
    "length = len(predictions[0])\n",
    "\n",
    "for index in range(length):\n",
    "    counter = [0,0,0]\n",
    "    preds = [predictions[i][index] for i in range(len(predictions))]\n",
    "    for i,pred in enumerate(preds):\n",
    "        weight_index = int(i / 5) \n",
    "        counter[0] += weights_list[weight_index] * pred[0]\n",
    "        counter[1] += weights_list[weight_index] * pred[1]\n",
    "        counter[2] += weights_list[weight_index] * pred[2]\n",
    "    stage2_predictions.append(np.argmax(counter) + 1)\n",
    "        \n",
    "len(stage2_predictions)"
   ]
  },
  {
   "cell_type": "code",
   "execution_count": 8,
   "id": "58d4f52f",
   "metadata": {},
   "outputs": [
    {
     "name": "stdout",
     "output_type": "stream",
     "text": [
      "452\n"
     ]
    }
   ],
   "source": [
    "with open('results/stage1_predictions.pkl','rb') as f:\n",
    "    stage1_predictions = pickle.load(f)\n",
    "\n",
    "final_predictions = []\n",
    "index = 0\n",
    "\n",
    "for prediction in stage1_predictions:\n",
    "    if prediction == 1:\n",
    "        final_predictions.append(stage2_predictions[index])\n",
    "        index += 1\n",
    "    else:\n",
    "        final_predictions.append(0)\n",
    "\n",
    "print(index)"
   ]
  },
  {
   "cell_type": "code",
   "execution_count": 9,
   "id": "8802adb1",
   "metadata": {},
   "outputs": [],
   "source": [
    "with open('results/final_predictions.pkl','wb') as f:\n",
    "    pickle.dump(final_predictions,f)"
   ]
  },
  {
   "cell_type": "code",
   "execution_count": null,
   "id": "15c5a6e6",
   "metadata": {},
   "outputs": [],
   "source": []
  }
 ],
 "metadata": {
  "kernelspec": {
   "display_name": "Python 3 (ipykernel)",
   "language": "python",
   "name": "python3"
  },
  "language_info": {
   "codemirror_mode": {
    "name": "ipython",
    "version": 3
   },
   "file_extension": ".py",
   "mimetype": "text/x-python",
   "name": "python",
   "nbconvert_exporter": "python",
   "pygments_lexer": "ipython3",
   "version": "3.8.5"
  }
 },
 "nbformat": 4,
 "nbformat_minor": 5
}
